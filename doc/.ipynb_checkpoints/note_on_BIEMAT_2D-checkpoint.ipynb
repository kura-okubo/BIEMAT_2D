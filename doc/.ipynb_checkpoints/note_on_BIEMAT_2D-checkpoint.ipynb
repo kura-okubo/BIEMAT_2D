{
 "cells": [
  {
   "cell_type": "markdown",
   "metadata": {},
   "source": [
    "# Note on BIEMAT_2D\n",
    "\n",
    "Author: Kurama Okubo"
   ]
  },
  {
   "cell_type": "markdown",
   "metadata": {},
   "source": [
    "This code is implemented based on Tada and Madariaga (2001):\n",
    "\n",
    "- Taku Tada and Raúl Madariaga. Dynamic modelling of the flat 2-d crack by a semi-analytic biem scheme (2001). International Journal for Numerical Methods in Engineering, 50(1):227--251.\n"
   ]
  },
  {
   "cell_type": "markdown",
   "metadata": {},
   "source": [
    "In this article, the total friction on the fault $F$ is decomposed into traction $T$ and external loading $\\sigma_{ext}$ as follows:\n",
    "\n",
    "$$ F = T + \\sigma_{ext}$$\n",
    "\n",
    "We then assume $\\sigma_{ext} = \\tau_0$ as external uniform loading."
   ]
  },
  {
   "cell_type": "markdown",
   "metadata": {},
   "source": [
    "The linear-slip weakening law is defined as follows:\n",
    "\n",
    "$$T_{fric}+ \\tau_0 = \\left\\{\\begin{array}{lr}\n",
    "        F(x, 0), & \\Delta u = 0 \\\\\n",
    "        \\tau_p - W\\Delta u, & 0\\leq \\Delta u < D_c\\\\\n",
    "        \\tau_d, & D_c \\leq \\Delta u \\\\\n",
    "        \\end{array}\\right\\} $$\n",
    "        \n",
    "In the discretized form,\n",
    "\n",
    "$$T_{fric}^{i, n}+ \\tau_0 = \\left\\{\\begin{array}{lr}\n",
    "        F^{i, 0} , & \\Delta u = 0 \\\\\n",
    "        \\tau_p - WU^{i, n}, & 0 < U^{i, n} < D_c\\\\\n",
    "        \\tau_d, & D_c \\leq U^{i, n}\\\\\n",
    "        \\end{array}\\right\\}, $$\n",
    "\n",
    "where\n",
    "\n",
    "$$\n",
    "W =\\left( \\dfrac{f_s-f_d}{Dc} \\right) \\sigma_n \n",
    "$$\n",
    "\n",
    "$U^{i, n}$ is the discretized form of slip, which is updated as:\n",
    "\n",
    "$$U^{i, n} = U^{i, n-1} + D^{i, n-1}\\Delta t $$"
   ]
  },
  {
   "cell_type": "markdown",
   "metadata": {},
   "source": [
    "Given the equilibrium of forces on the fault,\n",
    "\n",
    "$$ T_{3}^{i, n} + T_{fric}^{i, n} = - \\dfrac{\\mu}{2c_s} \\left( D_3^{i, n} + \\sum_{k, m<n} D_3^{k,m} K_{3:T3}^{i-k, n, m} \\right) + T_{fric}^{i, n} = 0$$\n",
    "\n",
    "The slip-rate $D$ is solved explicitly by simple summation as follows:\n",
    "\n",
    "$$ D_3^{i, n} = \\dfrac{2c_s}{\\mu} T_{fric}^{i, n} - \\sum_{k, m<n} D_3^{k,m} K_{3:T3}^{i-k, n, m} $$"
   ]
  },
  {
   "cell_type": "markdown",
   "metadata": {},
   "source": [
    "The spontaneous rupture is initiated as follows:\n",
    "\n",
    "$$ D_3^{k,0} = 0, U^{i, 0} = 0$$\n",
    "\n",
    "$$ T_{fric}^{i, 0} = F^{i, 0} - \\tau_0 = \\dfrac{\\mu}{2c_s} D_3^{i, 0} $$\n",
    "\n",
    "Thus\n",
    "\n",
    "$$ D_3^{i, 0} = \\dfrac{2c_s}{\\mu} \\left( F^{i, 0} - \\tau_0 \\right) $$\n",
    "\n",
    "$$ U^{i, 1} = D_3^{i, 0} \\Delta t$$"
   ]
  },
  {
   "cell_type": "markdown",
   "metadata": {},
   "source": [
    "## Workflow"
   ]
  },
  {
   "cell_type": "markdown",
   "metadata": {},
   "source": [
    "1. Set initial condition\n",
    "    - define x coordinate $s_i = i \\Delta s$, $i = 0, 1, 2,.., NX$\n",
    "    - define time collocation grid $t_n = n\\Delta t$,  $n = 0, 1, 2,.., NT$\n",
    "    - initial distribution of friction $F^{i, 0}$\n",
    "2. Compute Kernel matrix K(NX+1, NX+1, NT+1, NT+1)\n",
    "3. Compute Slip-rate matrix D(NX+1, NT+1)"
   ]
  },
  {
   "cell_type": "code",
   "execution_count": null,
   "metadata": {},
   "outputs": [],
   "source": []
  }
 ],
 "metadata": {
  "kernelspec": {
   "display_name": "Python 3",
   "language": "python",
   "name": "python3"
  },
  "language_info": {
   "codemirror_mode": {
    "name": "ipython",
    "version": 3
   },
   "file_extension": ".py",
   "mimetype": "text/x-python",
   "name": "python",
   "nbconvert_exporter": "python",
   "pygments_lexer": "ipython3",
   "version": "3.8.6"
  }
 },
 "nbformat": 4,
 "nbformat_minor": 4
}
